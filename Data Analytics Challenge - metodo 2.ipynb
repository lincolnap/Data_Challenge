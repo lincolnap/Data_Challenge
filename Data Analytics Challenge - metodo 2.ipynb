{
 "cells": [
  {
   "cell_type": "code",
   "execution_count": 11,
   "metadata": {},
   "outputs": [],
   "source": [
    "import requests\n",
    "import json\n",
    "\n",
    "#autenticacion por el token Bearer\n",
    "def auth_token():\n",
    "    BEARER_TOKEN = \"introduca su token\"\n",
    "    return BEARER_TOKEN"
   ]
  },
  {
   "cell_type": "code",
   "execution_count": 12,
   "metadata": {},
   "outputs": [],
   "source": [
    "#construcion de la url para hacer en link de la peticion GET\n",
    "def create_url():\n",
    "    busqueda = \"panama\"\n",
    "    query = \"query=\"\n",
    "    max = 100 #solo soporta maxima 100 \n",
    "    max_results = \"max_results=\" + str( max )\n",
    "    # field =\"tweet.fields=author_id, context_annotations, conversation_id, created_at, entities, geo, id, in_reply_to_user_id, lang, non_public_metrics, organic_metrics, possibly_sensitive, promoted_metrics, public_metrics, referenced_tweets, source, text\"\n",
    "    fields = \"tweet.fields=author_id,text,id,created_at,source\"\n",
    "\n",
    "    url = f\"https://api.twitter.com/2/tweets/search/recent?{query + busqueda}&{max_results}&{fields}\"\n",
    "    return url"
   ]
  },
  {
   "cell_type": "code",
   "execution_count": 13,
   "metadata": {},
   "outputs": [],
   "source": [
    "#autenticacion a las cabeceras\n",
    "def cabezera_principal(bearer_token):\n",
    "    headers = {\"Authorization\": \"Bearer {}\".format( bearer_token )}\n",
    "    return headers"
   ]
  },
  {
   "cell_type": "code",
   "execution_count": 14,
   "metadata": {},
   "outputs": [],
   "source": [
    "#creado la coneccion a solicitar \n",
    "def conecxion(url, headers):\n",
    "    response = requests.request( \"GET\", url, headers=headers )\n",
    "    # print(response.status_code)\n",
    "    if response.status_code != 200:\n",
    "        raise Exception(\n",
    "            \"Request returned an error: {} {}\".format(\n",
    "                response.status_code, response.text\n",
    "            )\n",
    "        )\n",
    "    return response.json()"
   ]
  },
  {
   "cell_type": "code",
   "execution_count": 15,
   "metadata": {
    "tags": [
     "outputPrepend"
    ]
   },
   "outputs": [
    {
     "output_type": "stream",
     "name": "stdout",
     "text": [
      "2659\",\n            \"source\": \"Twitter for Android\",\n            \"text\": \"@xbox__panama https://t.co/mU9JMseKQD\"\n        },\n        {\n            \"author_id\": \"1003941643953819648\",\n            \"created_at\": \"2020-11-30T08:36:13.000Z\",\n            \"id\": \"1333328971157606405\",\n            \"source\": \"Twitter for Android\",\n            \"text\": \"RT @exobsocial50: Countries tagging Kai's Hashtags \\n\\nWorldwide \\nPhilippines \\nIndonesia \\nGuatemala\\nJordan \\nAlgeria\\nVietnam \\nPeru\\nPanama\\nDomi\\u2026\"\n        },\n        {\n            \"author_id\": \"87546175\",\n            \"created_at\": \"2020-11-30T08:36:01.000Z\",\n            \"id\": \"1333328921698430978\",\n            \"source\": \"Twitter for iPhone\",\n            \"text\": \"@laserairlines Como es posible que las personas en el aeropuerto no est\\u00e9n al tanto de las normas para entrar en Panama. Ustedes publican algo en su pagina y en el aeropuerto en maiquetia las encargadas de chequear a la gente hacen lo que les da la gana?\"\n        },\n        {\n            \"author_id\": \"1266826476063612928\",\n            \"created_at\": \"2020-11-30T08:35:57.000Z\",\n            \"id\": \"1333328904271011841\",\n            \"source\": \"Twitter for Android\",\n            \"text\": \"RT @exobsocial50: Countries tagging Kai's Hashtags \\n\\nWorldwide \\nPhilippines \\nIndonesia \\nGuatemala\\nJordan \\nAlgeria\\nVietnam \\nPeru\\nPanama\\nDomi\\u2026\"\n        },\n        {\n            \"author_id\": \"1319478298867621888\",\n            \"created_at\": \"2020-11-30T08:35:53.000Z\",\n            \"id\": \"1333328889536524289\",\n            \"source\": \"Twitter for iPhone\",\n            \"text\": \"RT @SMTownEngSub: .@weareoneEXO #KaiHotDebutDay 41 trending locations:\\n\\n#1 Worldwide\\n#1 Korea\\n#1 UK\\n#1 Algeria\\n#1 Ecuador\\n#1 Germany\\n#1 Gua\\u2026\"\n        },\n        {\n            \"author_id\": \"1329002401702031360\",\n            \"created_at\": \"2020-11-30T08:35:36.000Z\",\n            \"id\": \"1333328814919790594\",\n            \"source\": \"Twitter for iPhone\",\n            \"text\": \"RT @SMTownEngSub: .@weareoneEXO #KaiHotDebutDay 41 trending locations:\\n\\n#1 Worldwide\\n#1 Korea\\n#1 UK\\n#1 Algeria\\n#1 Ecuador\\n#1 Germany\\n#1 Gua\\u2026\"\n        },\n        {\n            \"author_id\": \"1082175175326523392\",\n            \"created_at\": \"2020-11-30T08:35:32.000Z\",\n            \"id\": \"1333328798536798208\",\n            \"source\": \"Twitter for Android\",\n            \"text\": \"RT @exobsocial50: Countries tagging Kai's Hashtags \\n\\nWorldwide \\nPhilippines \\nIndonesia \\nGuatemala\\nJordan \\nAlgeria\\nVietnam \\nPeru\\nPanama\\nDomi\\u2026\"\n        },\n        {\n            \"author_id\": \"1300639349457866757\",\n            \"created_at\": \"2020-11-30T08:35:25.000Z\",\n            \"id\": \"1333328768274821121\",\n            \"source\": \"Twitter for Android\",\n            \"text\": \"RT @SMTownEngSub: .@weareoneEXO #KaiHotDebutDay 41 trending locations:\\n\\n#1 Worldwide\\n#1 Korea\\n#1 UK\\n#1 Algeria\\n#1 Ecuador\\n#1 Germany\\n#1 Gua\\u2026\"\n        },\n        {\n            \"author_id\": \"1121037695013113856\",\n            \"created_at\": \"2020-11-30T08:35:07.000Z\",\n            \"id\": \"1333328694769684482\",\n            \"source\": \"Twitter for Android\",\n            \"text\": \"RT @exobsocial50: Countries tagging Kai's Hashtags \\n\\nWorldwide \\nPhilippines \\nIndonesia \\nGuatemala\\nJordan \\nAlgeria\\nVietnam \\nPeru\\nPanama\\nDomi\\u2026\"\n        },\n        {\n            \"author_id\": \"258431130\",\n            \"created_at\": \"2020-11-30T08:35:01.000Z\",\n            \"id\": \"1333328671428517888\",\n            \"source\": \"Twitter for iPhone\",\n            \"text\": \"Panam\\u00e1 registra 21 nuevos decesos por COVID-19 en las \\u00faltimas 24 horas https://t.co/BP3DYAZ2u6\"\n        },\n        {\n            \"author_id\": \"233575841\",\n            \"created_at\": \"2020-11-30T08:34:53.000Z\",\n            \"id\": \"1333328636070531073\",\n            \"source\": \"Twitter Web App\",\n            \"text\": \"RT @rnarcoxd: este man jura que es el main character de panama\\ud83d\\ude11\"\n        },\n        {\n            \"author_id\": \"1122510477186228224\",\n            \"created_at\": \"2020-11-30T08:34:35.000Z\",\n            \"id\": \"1333328562020036608\",\n            \"source\": \"Twitter Web App\",\n            \"text\": \"uno de los mejores snipers de panam\\u00e1! https://t.co/vCmjoypNdt\"\n        },\n        {\n            \"author_id\": \"885877656993923073\",\n            \"created_at\": \"2020-11-30T08:34:21.000Z\",\n            \"id\": \"1333328502850945028\",\n            \"source\": \"Twitter for Android\",\n            \"text\": \"RT @exobsocial50: Countries tagging Kai's Hashtags \\n\\nWorldwide \\nPhilippines \\nIndonesia \\nGuatemala\\nJordan \\nAlgeria\\nVietnam \\nPeru\\nPanama\\nDomi\\u2026\"\n        },\n        {\n            \"author_id\": \"3066517579\",\n            \"created_at\": \"2020-11-30T08:33:56.000Z\",\n            \"id\": \"1333328398572130304\",\n            \"source\": \"Twitter for iPad\",\n            \"text\": \"RT @SMTownEngSub: .@weareoneEXO #KaiHotDebutDay 41 trending locations:\\n\\n#1 Worldwide\\n#1 Korea\\n#1 UK\\n#1 Algeria\\n#1 Ecuador\\n#1 Germany\\n#1 Gua\\u2026\"\n        },\n        {\n            \"author_id\": \"870389770391781380\",\n            \"created_at\": \"2020-11-30T08:33:10.000Z\",\n            \"id\": \"1333328203751059457\",\n            \"source\": \"IFTTT\",\n            \"text\": \"LogiNewsEs: El Canal de Panam\\u00e1 seguir\\u00e1 prestando sus servicios a pesar de la\\u00a0pandemia https://t.co/pXJ9tgvEe0\"\n        },\n        {\n            \"author_id\": \"1291668981418516482\",\n            \"created_at\": \"2020-11-30T08:33:09.000Z\",\n            \"id\": \"1333328200794058754\",\n            \"source\": \"Twitter for iPhone\",\n            \"text\": \"RT @exobsocial50: Countries tagging Kai's Hashtags \\n\\nWorldwide \\nPhilippines \\nIndonesia \\nGuatemala\\nJordan \\nAlgeria\\nVietnam \\nPeru\\nPanama\\nDomi\\u2026\"\n        },\n        {\n            \"author_id\": \"716895078568960001\",\n            \"created_at\": \"2020-11-30T08:33:08.000Z\",\n            \"id\": \"1333328194263412736\",\n            \"source\": \"Twitter for Android\",\n            \"text\": \"RT @SMTownEngSub: .@weareoneEXO #KaiHotDebutDay 41 trending locations:\\n\\n#1 Worldwide\\n#1 Korea\\n#1 UK\\n#1 Algeria\\n#1 Ecuador\\n#1 Germany\\n#1 Gua\\u2026\"\n        },\n        {\n            \"author_id\": \"172636364\",\n            \"created_at\": \"2020-11-30T08:32:27.000Z\",\n            \"id\": \"1333328022435360768\",\n            \"source\": \"Twitter for Android\",\n            \"text\": \"RT @XHespanol: Casos de #COVID19 en AL y el Caribe a las 04:00 GMT del 30 de noviembre: JHU\\nRegi\\u00f3n: 12.965.822\\nBrasil: 6.314.740\\nArgentina:\\u2026\"\n        },\n        {\n            \"author_id\": \"1045842040762888198\",\n            \"created_at\": \"2020-11-30T08:32:26.000Z\",\n            \"id\": \"1333328017356156931\",\n            \"source\": \"Twitter for Android\",\n            \"text\": \"@xbox__panama https://t.co/7S5qvZEFtF\"\n        },\n        {\n            \"author_id\": \"1085180371011072000\",\n            \"created_at\": \"2020-11-30T08:32:13.000Z\",\n            \"id\": \"1333327964587569152\",\n            \"source\": \"Twitter for Android\",\n            \"text\": \"RT @SMTownEngSub: .@weareoneEXO #KaiHotDebutDay 41 trending locations:\\n\\n#1 Worldwide\\n#1 Korea\\n#1 UK\\n#1 Algeria\\n#1 Ecuador\\n#1 Germany\\n#1 Gua\\u2026\"\n        },\n        {\n            \"author_id\": \"242054905\",\n            \"created_at\": \"2020-11-30T08:32:13.000Z\",\n            \"id\": \"1333327963048308736\",\n            \"source\": \"Repetidora Twitter\",\n            \"text\": \"https://t.co/d9C8thGHis |   Exportaciones paname\\u00f1as caen 10% pero son lideradas por productos agropecuarios https://t.co/wgoygBQqsH (PANAMA)\\n\\nExportaciones paname\\u00f1as caen 10% pero son lideradas por productos agropecuarios\\n\\nGanado\\n\\n(Ciudad https://t.co/V4gQ03f9EN #econom\\u00eda\"\n        },\n        {\n            \"author_id\": \"1250484922168610816\",\n            \"created_at\": \"2020-11-30T08:32:11.000Z\",\n            \"id\": \"1333327956224200704\",\n            \"source\": \"Twitter Web App\",\n            \"text\": \"RT @BIGDATA2110: Coronavirus en #Latinoamerica lunes 30 noviembre 2020 9:00h (hora I.Canarias) #COVID19 casos en: Venezuela Guatemala Parag\\u2026\"\n        },\n        {\n            \"author_id\": \"309532384\",\n            \"created_at\": \"2020-11-30T08:32:08.000Z\",\n            \"id\": \"1333327945058770945\",\n            \"source\": \"Twitter for iPhone\",\n            \"text\": \"RT @SMTownEngSub: .@weareoneEXO #KaiHotDebutDay 41 trending locations:\\n\\n#1 Worldwide\\n#1 Korea\\n#1 UK\\n#1 Algeria\\n#1 Ecuador\\n#1 Germany\\n#1 Gua\\u2026\"\n        },\n        {\n            \"author_id\": \"1265983093229318144\",\n            \"created_at\": \"2020-11-30T08:31:40.000Z\",\n            \"id\": \"1333327825307254785\",\n            \"source\": \"Twitter for iPhone\",\n            \"text\": \"RT @exobsocial50: Countries tagging Kai's Hashtags \\n\\nWorldwide \\nPhilippines \\nIndonesia \\nGuatemala\\nJordan \\nAlgeria\\nVietnam \\nPeru\\nPanama\\nDomi\\u2026\"\n        },\n        {\n            \"author_id\": \"1218881397240160261\",\n            \"created_at\": \"2020-11-30T08:31:12.000Z\",\n            \"id\": \"1333327709506736128\",\n            \"source\": \"Twitter for iPhone\",\n            \"text\": \"RT @SMTownEngSub: .@weareoneEXO #KaiHotDebutDay 41 trending locations:\\n\\n#1 Worldwide\\n#1 Korea\\n#1 UK\\n#1 Algeria\\n#1 Ecuador\\n#1 Germany\\n#1 Gua\\u2026\"\n        },\n        {\n            \"author_id\": \"1077418096938442752\",\n            \"created_at\": \"2020-11-30T08:30:11.000Z\",\n            \"id\": \"1333327454602190849\",\n            \"source\": \"Twitter for iPhone\",\n            \"text\": \"OK, @ICIJorg bunch might be interested in breaking all the complexities of the 2020 US Election confusion. \\n\\nThey did an outstanding job with the Panama Papers. \\n\\n#WeAreTheNewsNow https://t.co/GCSuEJzXgN\"\n        },\n        {\n            \"author_id\": \"1246901625509289984\",\n            \"created_at\": \"2020-11-30T08:30:00.000Z\",\n            \"id\": \"1333327407810371584\",\n            \"source\": \"Twitter Web App\",\n            \"text\": \"Cocol\\u00ed Locks, Panama Canal, Panama \\ud83c\\uddf5\\ud83c\\udde6\\n8\\u00b058'35\\\"N 79\\u00b034'56\\\"W https://t.co/7ltJ1Kvgl7\"\n        },\n        {\n            \"author_id\": \"2583373194\",\n            \"created_at\": \"2020-11-30T08:29:58.000Z\",\n            \"id\": \"1333327398519992321\",\n            \"source\": \"Twitter for Android\",\n            \"text\": \"RT @SMTownEngSub: .@weareoneEXO #KaiHotDebutDay 41 trending locations:\\n\\n#1 Worldwide\\n#1 Korea\\n#1 UK\\n#1 Algeria\\n#1 Ecuador\\n#1 Germany\\n#1 Gua\\u2026\"\n        },\n        {\n            \"author_id\": \"47165705\",\n            \"created_at\": \"2020-11-30T08:29:55.000Z\",\n            \"id\": \"1333327387799515136\",\n            \"source\": \"Twitter for Android\",\n            \"text\": \"@Enfoque507 @OJudicialPanama @PGN_PANAMA Ameglio....no podia faltar sobretodo \\ud83d\\ude45\\ud83d\\ude45\\ud83d\\ude45\\ud83d\\ude45\\ud83d\\ude45\\ud83d\\ude45\\ud83d\\ude45\"\n        },\n        {\n            \"author_id\": \"1142495766084227082\",\n            \"created_at\": \"2020-11-30T08:29:51.000Z\",\n            \"id\": \"1333327369550127104\",\n            \"source\": \"Twitter for iPhone\",\n            \"text\": \"RT @exobsocial50: Countries tagging Kai's Hashtags \\n\\nWorldwide \\nPhilippines \\nIndonesia \\nGuatemala\\nJordan \\nAlgeria\\nVietnam \\nPeru\\nPanama\\nDomi\\u2026\"\n        },\n        {\n            \"author_id\": \"894881171821051904\",\n            \"created_at\": \"2020-11-30T08:29:34.000Z\",\n            \"id\": \"1333327298867523587\",\n            \"source\": \"Twitter for Android\",\n            \"text\": \"RT @SMTownEngSub: .@weareoneEXO #KaiHotDebutDay 41 trending locations:\\n\\n#1 Worldwide\\n#1 Korea\\n#1 UK\\n#1 Algeria\\n#1 Ecuador\\n#1 Germany\\n#1 Gua\\u2026\"\n        },\n        {\n            \"author_id\": \"1625440772\",\n            \"created_at\": \"2020-11-30T08:28:57.000Z\",\n            \"id\": \"1333327143598780418\",\n            \"source\": \"Twitter for iPhone\",\n            \"text\": \"RT @arangomanuel5: @PGN_PANAMA Y esto como para cuando? https://t.co/3ywqr8jcUJ\"\n        },\n        {\n            \"author_id\": \"2801601216\",\n            \"created_at\": \"2020-11-30T08:28:50.000Z\",\n            \"id\": \"1333327112942489600\",\n            \"source\": \"Twitter for Android\",\n            \"text\": \"RT @SMTownEngSub: .@weareoneEXO #KaiHotDebutDay 41 trending locations:\\n\\n#1 Worldwide\\n#1 Korea\\n#1 UK\\n#1 Algeria\\n#1 Ecuador\\n#1 Germany\\n#1 Gua\\u2026\"\n        },\n        {\n            \"author_id\": \"1625440772\",\n            \"created_at\": \"2020-11-30T08:28:38.000Z\",\n            \"id\": \"1333327062703206401\",\n            \"source\": \"Twitter for iPhone\",\n            \"text\": \"RT @MaderaTono: @PGN_PANAMA M\\u00e1s claro no canta un gallo ..aqu\\u00ed los que deben estar presos son el denunciante PROTEGIDO y el due\\u00f1o de la com\\u2026\"\n        },\n        {\n            \"author_id\": \"1238308480861253632\",\n            \"created_at\": \"2020-11-30T08:28:34.000Z\",\n            \"id\": \"1333327044718047238\",\n            \"source\": \"Twitter for Android\",\n            \"text\": \"@rominamanguel Y los panam\\u00e1 papers no eran suficientes pruebas para investigar a Macri ?\"\n        },\n        {\n            \"author_id\": \"462529884\",\n            \"created_at\": \"2020-11-30T08:28:21.000Z\",\n            \"id\": \"1333326992272470016\",\n            \"source\": \"Twitter Web App\",\n            \"text\": \"RT @roshernandez: El Ministerio del Interior de Colombia, en Decreto 1550 del 28/11/2020 determin\\u00f3 que los pasos terrestres y fluviales con\\u2026\"\n        },\n        {\n            \"author_id\": \"1265498749729734656\",\n            \"created_at\": \"2020-11-30T08:28:20.000Z\",\n            \"id\": \"1333326989592207361\",\n            \"source\": \"Twitter for Android\",\n            \"text\": \"RT @SMTownEngSub: .@weareoneEXO #KaiHotDebutDay 41 trending locations:\\n\\n#1 Worldwide\\n#1 Korea\\n#1 UK\\n#1 Algeria\\n#1 Ecuador\\n#1 Germany\\n#1 Gua\\u2026\"\n        },\n        {\n            \"author_id\": \"1272076521058889729\",\n            \"created_at\": \"2020-11-30T08:28:16.000Z\",\n            \"id\": \"1333326972282302465\",\n            \"source\": \"Twitter for Android\",\n            \"text\": \"RT @exobsocial50: Countries tagging Kai's Hashtags \\n\\nWorldwide \\nPhilippines \\nIndonesia \\nGuatemala\\nJordan \\nAlgeria\\nVietnam \\nPeru\\nPanama\\nDomi\\u2026\"\n        },\n        {\n            \"author_id\": \"1251327891515858947\",\n            \"created_at\": \"2020-11-30T08:28:12.000Z\",\n            \"id\": \"1333326953252876288\",\n            \"source\": \"Twitter Web App\",\n            \"text\": \"Coronavirus en #Latinoamerica lunes 30 noviembre 2020 9:00h (hora I.Canarias) #COVID19 casos en: Venezuela Guatemala Paraguay Argentina Per\\u00fa El Salvador M\\u00e9xico Costa Rica Chile Nicaragua Uruguay Colombia Ecuador Honduras Bolivia Panam\\u00e1 Hait\\u00ed Cuba Brasil Rep\\u00fablica Dominicana. https://t.co/GOSOfpBMjJ\"\n        },\n        {\n            \"author_id\": \"1958010458\",\n            \"created_at\": \"2020-11-30T08:28:06.000Z\",\n            \"id\": \"1333326928359665674\",\n            \"source\": \"Twitter for Android\",\n            \"text\": \"RT @SHARKCUTERO: Panam\\u00e1 oeste en una foto\"\n        },\n        {\n            \"author_id\": \"1323558174134329344\",\n            \"created_at\": \"2020-11-30T08:27:56.000Z\",\n            \"id\": \"1333326888647974918\",\n            \"source\": \"Twitter for Android\",\n            \"text\": \"RT @Alejacandanga: Guaid\\u00f3 refuses to accept British court payment order\\n\\nMessage to the United Kingdom England, how do you explain that Gua\\u2026\"\n        },\n        {\n            \"author_id\": \"603178265\",\n            \"created_at\": \"2020-11-30T08:27:18.000Z\",\n            \"id\": \"1333326728375185411\",\n            \"source\": \"Twitter for Android\",\n            \"text\": \"RT @suntracs1: Nos unimos desde Panam\\u00e1 \\ud83c\\uddf5\\ud83c\\udde6 a recordar el d\\u00eda: \\n\\ud83c\\uddf5\\ud83c\\uddf8 #SolidaridadConPalestina \\ud83d\\udc4a\\ud83c\\udffe\\n#29NovPalestina \\ud83c\\uddf5\\ud83c\\uddf8 \\nPrimero y \\u00faltimo es la \\n\\ud83d\\udc4a\\ud83c\\udffe\\u2026\"\n        },\n        {\n            \"author_id\": \"1625440772\",\n            \"created_at\": \"2020-11-30T08:27:14.000Z\",\n            \"id\": \"1333326711455363075\",\n            \"source\": \"Twitter for iPhone\",\n            \"text\": \"RT @Eucama29: @PGN_PANAMA Qu\\u00e9  B\\u00c1RBAROS han ca\\u00eddo en su propia trampa. La Mentira es hija del Diablo y jam\\u00e1s  podr\\u00e1  vencer la verdad que e\\u2026\"\n        },\n        {\n            \"author_id\": \"863986791350648833\",\n            \"created_at\": \"2020-11-30T08:27:00.000Z\",\n            \"id\": \"1333326652915425282\",\n            \"source\": \"Twitter for Android\",\n            \"text\": \"RT @SMTownEngSub: .@weareoneEXO #KaiHotDebutDay 41 trending locations:\\n\\n#1 Worldwide\\n#1 Korea\\n#1 UK\\n#1 Algeria\\n#1 Ecuador\\n#1 Germany\\n#1 Gua\\u2026\"\n        },\n        {\n            \"author_id\": \"1625440772\",\n            \"created_at\": \"2020-11-30T08:26:47.000Z\",\n            \"id\": \"1333326597529739265\",\n            \"source\": \"Twitter for iPhone\",\n            \"text\": \"RT @roderick140: @PGN_PANAMA @elvis_hibbert Estos, los que andan buscando es que se le forme una cerradera de calles y manifestaciones, por\\u2026\"\n        },\n        {\n            \"author_id\": \"1183725406127439872\",\n            \"created_at\": \"2020-11-30T08:26:46.000Z\",\n            \"id\": \"1333326594681651200\",\n            \"source\": \"Twitter for iPhone\",\n            \"text\": \"RT @SMTownEngSub: .@weareoneEXO #KaiHotDebutDay 41 trending locations:\\n\\n#1 Worldwide\\n#1 Korea\\n#1 UK\\n#1 Algeria\\n#1 Ecuador\\n#1 Germany\\n#1 Gua\\u2026\"\n        },\n        {\n            \"author_id\": \"1251502425741168640\",\n            \"created_at\": \"2020-11-30T08:26:27.000Z\",\n            \"id\": \"1333326515191369728\",\n            \"source\": \"Twitter for Android\",\n            \"text\": \"RT @SMTownEngSub: .@weareoneEXO #KaiHotDebutDay 41 trending locations:\\n\\n#1 Worldwide\\n#1 Korea\\n#1 UK\\n#1 Algeria\\n#1 Ecuador\\n#1 Germany\\n#1 Gua\\u2026\"\n        },\n        {\n            \"author_id\": \"1625440772\",\n            \"created_at\": \"2020-11-30T08:26:26.000Z\",\n            \"id\": \"1333326510476972032\",\n            \"source\": \"Twitter for iPhone\",\n            \"text\": \"RT @elvis_hibbert: @roderick140 @PGN_PANAMA Mientras tanto\\ud83d\\udc47\\ud83d\\udc47\\ud83d\\udc47 https://t.co/nsJPJSjj51\"\n        },\n        {\n            \"author_id\": \"308569291\",\n            \"created_at\": \"2020-11-30T08:26:18.000Z\",\n            \"id\": \"1333326477912371200\",\n            \"source\": \"IFTTT\",\n            \"text\": \"Panam\\u00e1 acopia 163.453 casos de coronavirus y 3.039 muertes por la enfermedad https://t.co/7MbyMXKf6Z\"\n        },\n        {\n            \"author_id\": \"1177584924439789568\",\n            \"created_at\": \"2020-11-30T08:26:12.000Z\",\n            \"id\": \"1333326451718955008\",\n            \"source\": \"Twitter for Android\",\n            \"text\": \"RT @exobsocial50: Countries tagging Kai's Hashtags \\n\\nWorldwide \\nPhilippines \\nIndonesia \\nGuatemala\\nJordan \\nAlgeria\\nVietnam \\nPeru\\nPanama\\nDomi\\u2026\"\n        },\n        {\n            \"author_id\": \"1048210370593267713\",\n            \"created_at\": \"2020-11-30T08:26:01.000Z\",\n            \"id\": \"1333326404549812229\",\n            \"source\": \"Twitter for Android\",\n            \"text\": \"RT @SMTownEngSub: .@weareoneEXO #KaiHotDebutDay 41 trending locations:\\n\\n#1 Worldwide\\n#1 Korea\\n#1 UK\\n#1 Algeria\\n#1 Ecuador\\n#1 Germany\\n#1 Gua\\u2026\"\n        },\n        {\n            \"author_id\": \"726614459716894723\",\n            \"created_at\": \"2020-11-30T08:25:58.000Z\",\n            \"id\": \"1333326390419066881\",\n            \"source\": \"Twitter for Android\",\n            \"text\": \"RT @SMTownEngSub: .@weareoneEXO #KaiHotDebutDay 41 trending locations:\\n\\n#1 Worldwide\\n#1 Korea\\n#1 UK\\n#1 Algeria\\n#1 Ecuador\\n#1 Germany\\n#1 Gua\\u2026\"\n        },\n        {\n            \"author_id\": \"4143848117\",\n            \"created_at\": \"2020-11-30T08:24:51.000Z\",\n            \"id\": \"1333326112970182658\",\n            \"source\": \"Twitter Web App\",\n            \"text\": \"RT @PROYSEG1: VII Congreso Internacional de Seguridad, Salud, Ambiente y Emergencias (CISAE), Panam\\u00e1 2020. - https://t.co/9irub8if1O LINK D\\u2026\"\n        }\n    ],\n    \"meta\": {\n        \"newest_id\": \"1333331700869427200\",\n        \"next_token\": \"b26v89c19zqg8o3foset6ckcr9eas988alfgvoliz4q65\",\n        \"oldest_id\": \"1333326112970182658\",\n        \"result_count\": 100\n    }\n}\n"
     ]
    }
   ],
   "source": [
    "#solicitud de la coneccion para obtener los datos\n",
    "def main():\n",
    "    bearer_token = auth_token()\n",
    "    url = create_url()\n",
    "    headers = cabezera_principal( bearer_token )\n",
    "    json_response = conecxion( url, headers )\n",
    "    x = (json.dumps( json_response, indent=4, sort_keys=True ))\n",
    "    return x\n",
    "\n",
    "#impresion de los tweeten formato json\n",
    "print( main() )  # Primeros 100 tweet"
   ]
  },
  {
   "cell_type": "code",
   "execution_count": null,
   "metadata": {},
   "outputs": [],
   "source": []
  }
 ],
 "metadata": {
  "kernelspec": {
   "display_name": "Python 3",
   "language": "python",
   "name": "python3"
  },
  "language_info": {
   "codemirror_mode": {
    "name": "ipython",
    "version": 3
   },
   "file_extension": ".py",
   "mimetype": "text/x-python",
   "name": "python",
   "nbconvert_exporter": "python",
   "pygments_lexer": "ipython3",
   "version": "3.7.6-final"
  }
 },
 "nbformat": 4,
 "nbformat_minor": 4
}